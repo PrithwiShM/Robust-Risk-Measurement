{
 "cells": [
  {
   "cell_type": "code",
   "execution_count": 1,
   "id": "88d0ef26-5f9d-46b1-b0a1-52ddac42f714",
   "metadata": {},
   "outputs": [],
   "source": [
    "# We knew most of the solutions in the portfolio where its application of robust risk optimization.\n",
    "#Hence, we dont need to use solver or corresponding functions in Scipy/ Numpy Library"
   ]
  },
  {
   "cell_type": "code",
   "execution_count": 1,
   "id": "f6136df6-dbb0-4d62-b7dc-d9bd04f8df0f",
   "metadata": {},
   "outputs": [],
   "source": [
    "import numpy as np\n",
    "from numpy.linalg import det, inv, eigvals\n",
    "\n",
    "import scipy\n",
    "from scipy.optimize import minimize, LinearConstraint, Bounds\n",
    "\n",
    "import pandas as pd\n",
    "import matplotlib.pyplot as plt"
   ]
  },
  {
   "cell_type": "code",
   "execution_count": 2,
   "id": "bf7a8feb-29f2-4ae1-92cf-58d4bdc941ab",
   "metadata": {},
   "outputs": [],
   "source": [
    "mu_i = 0.1\n",
    "sig_ii = 0.3\n",
    "rho_ij = 0.25\n",
    "n = 10\n",
    "\n",
    "gamma = 1"
   ]
  },
  {
   "cell_type": "code",
   "execution_count": 3,
   "id": "98d0e8e7-a916-4d0e-9ff3-8dc1f900db5a",
   "metadata": {},
   "outputs": [],
   "source": [
    "mu = np.full(n, mu_i)\n",
    "Sigma = np.full((n, n), rho_ij*sig_ii*sig_ii)\n",
    "\n",
    "# Set the diagonal elements to the diagonal value\n",
    "np.fill_diagonal(Sigma, sig_ii*sig_ii)\n"
   ]
  },
  {
   "cell_type": "markdown",
   "id": "664da595-1d50-4a67-8f8e-fb715ae56f36",
   "metadata": {},
   "source": [
    "### Nominal Portfolio"
   ]
  },
  {
   "cell_type": "code",
   "execution_count": 4,
   "id": "906ce946-38cb-4306-92ac-f38c2214d40b",
   "metadata": {},
   "outputs": [],
   "source": [
    "def portfolio_performance(a, mu, Sigma, gamma):\n",
    "    return -a.T @ mu + (gamma / 2) * a.T @ Sigma @ a\n",
    "\n",
    "# Function to calculate worst-case covariance matrix\n",
    "def worst_case_covariance_matrix(Sigma, theta, gamma, a):\n",
    "    inv_Sigma_worst_case = inv(Sigma) - theta * gamma * np.outer(a, a)\n",
    "    return inv(inv_Sigma_worst_case)"
   ]
  },
  {
   "cell_type": "code",
   "execution_count": 5,
   "id": "cc8910b6-a694-4ee3-aca7-966501a480b7",
   "metadata": {},
   "outputs": [
    {
     "data": {
      "text/plain": [
       "array([0.34188034, 0.34188034, 0.34188034, 0.34188034, 0.34188034,\n",
       "       0.34188034, 0.34188034, 0.34188034, 0.34188034, 0.34188034])"
      ]
     },
     "execution_count": 5,
     "metadata": {},
     "output_type": "execute_result"
    }
   ],
   "source": [
    "a_hat = (1/gamma)* inv(Sigma) @ mu\n",
    "\n",
    "one = np.full(n, 1)\n",
    "inv_Sigma = inv(Sigma)\n",
    "lambd = (mu.T @ inv_Sigma @ one - gamma)/(one.T @ inv_Sigma @ one)\n",
    "a_hat2 = (1/gamma)* inv_Sigma @ (mu - lambd* one)\n",
    "a_hat"
   ]
  },
  {
   "cell_type": "code",
   "execution_count": 6,
   "id": "0e11c457-d21b-4279-abc5-911adca8ae2d",
   "metadata": {},
   "outputs": [
    {
     "name": "stdout",
     "output_type": "stream",
     "text": [
      "Performance in Nominal Model: -0.17094017094017097\n",
      "Performance in Worst-Case Model: -0.15839410334823173\n"
     ]
    }
   ],
   "source": [
    "performance_nominal = portfolio_performance(a_hat, mu, Sigma, gamma)\n",
    "print(\"Performance in Nominal Model:\", performance_nominal)\n",
    "\n",
    "theta = 0.2\n",
    "# Calculate worst-case covariance matrix\n",
    "Sigma_worst_case = worst_case_covariance_matrix(Sigma, theta, gamma, a_hat)\n",
    "\n",
    "# Calculate performance in the worst-case model\n",
    "performance_worst_case = portfolio_performance(a_hat, mu, Sigma_worst_case, gamma)\n",
    "print(\"Performance in Worst-Case Model:\", performance_worst_case)"
   ]
  },
  {
   "cell_type": "markdown",
   "id": "678e3599-05b8-499f-94bf-42cc6d5e15a2",
   "metadata": {},
   "source": [
    "### Worst Case Portfolio"
   ]
  },
  {
   "cell_type": "code",
   "execution_count": 11,
   "id": "944b8002-4768-470a-9cdb-948f99170eac",
   "metadata": {},
   "outputs": [],
   "source": [
    "I = np.eye(n)\n",
    "\n",
    "#speciific case for analysis\n",
    "theta_ = 0.024792\n",
    "\n",
    "def objective_a_oftheta(a, theta):\n",
    "    term1 = 1 / np.sqrt(det(I - theta * gamma * np.outer(a,a) @ Sigma))\n",
    "    return (1/theta)*np.log(term1) - a.T @ mu\n",
    "\n",
    "def positive_definite_constraint(a, theta):\n",
    "    eigenvalues = eigvals(inv(Sigma) - theta * gamma * np.outer(a,a) )\n",
    "    return np.min(eigenvalues) - 1e-10  # Ensure all eigenvalues are slightly greater than zero\n"
   ]
  },
  {
   "cell_type": "code",
   "execution_count": 12,
   "id": "73567587-aa87-4ccb-9c2e-84790ccd64bc",
   "metadata": {},
   "outputs": [
    {
     "name": "stdout",
     "output_type": "stream",
     "text": [
      "Optimized a: [0.33901361 0.33901361 0.33901278 0.3390142  0.3390142  0.3390148\n",
      " 0.3390148  0.3390148  0.3390148  0.3390148 ]\n",
      " Minimum adjective reached at -0.1702237941541549 Not portfolio objective!\n"
     ]
    }
   ],
   "source": [
    "bounds = Bounds(0, np.inf)\n",
    "# Initial guess for 'a'\n",
    "a0 = np.ones(n)/n\n",
    "\n",
    "# Define constraints in the format required by 'minimize'\n",
    "constraints = {'type': 'ineq', 'fun': positive_definite_constraint, 'args': (theta_,)}\n",
    "\n",
    "# Perform the optimization\n",
    "result = minimize(objective_a_oftheta, a0, method='SLSQP', constraints=constraints, bounds=None, args = (theta_))\n",
    "\n",
    "# Check if the optimization was successful\n",
    "if result.success:\n",
    "    a_star = result.x\n",
    "    print(\"Optimized a:\", a_star)\n",
    "    print(\" Minimum adjective reached at\", np.real(result.fun), \"Not portfolio objective!\")\n",
    "else:\n",
    "    print(\"Optimization failed:\", result.message)"
   ]
  },
  {
   "cell_type": "code",
   "execution_count": 13,
   "id": "f8c37499-06d2-4396-b568-53e60359129a",
   "metadata": {},
   "outputs": [],
   "source": [
    "#computaion of entropy, risk_measurement\n",
    "#mvo = mean variance objective\n",
    "Sigma_tilda = inv(inv(Sigma) - theta_ * gamma * np.outer(a_star, a_star))\n",
    "\n",
    "Rel_entropy = (np.log(det(Sigma @ inv(Sigma_tilda) )) + np.trace(inv(Sigma) @ Sigma_tilda - I))/2\n",
    "\n",
    "RPs_nominal = portfolio_performance(a_star, mu, Sigma, gamma)\n",
    "NPs_worstcase = -np.dot(a_hat, mu) + (gamma/2)* np.dot(np.matmul(a_hat, Sigma_tilda), a_hat)\n",
    "RPs_worstcase = -np.dot(a_star, mu) + (gamma/2)* np.dot(np.matmul(a_star, Sigma_tilda), a_star)\n",
    "\n",
    "risk_meas2 = -np.dot(a_star, mu) + (gamma/2)*np.dot(a_star, np.dot(a_star, Sigma_tilda))\n",
    "# Both of them are the same"
   ]
  },
  {
   "cell_type": "code",
   "execution_count": 14,
   "id": "97630dcb-67c6-4338-adee-62a6c16e33f3",
   "metadata": {},
   "outputs": [
    {
     "name": "stdout",
     "output_type": "stream",
     "text": [
      "RPs_nominal  -0.17092815717055818\n",
      "NPs_worstcase  -0.16950351692556664\n",
      "RPs_worstcase  -0.16951549013297484\n",
      "Rel_entropy  1.756027329227229e-05\n"
     ]
    }
   ],
   "source": [
    "print('RPs_nominal ', RPs_nominal)\n",
    "print('NPs_worstcase ', NPs_worstcase)\n",
    "print('RPs_worstcase ', RPs_worstcase)\n",
    "print('Rel_entropy ', Rel_entropy)"
   ]
  },
  {
   "cell_type": "markdown",
   "id": "b219a387-83bc-4c31-beb9-58bbb57049dd",
   "metadata": {},
   "source": [
    "Scipy optimize based optimization"
   ]
  },
  {
   "cell_type": "code",
   "execution_count": 83,
   "id": "602c64ed-ae5a-4a7a-b15e-f8c47baaec7b",
   "metadata": {
    "scrolled": true
   },
   "outputs": [
    {
     "name": "stdout",
     "output_type": "stream",
     "text": [
      "Optimized a: [0.33948848 0.33948848 0.3394892  0.33948848 0.33948848 0.33948848\n",
      " 0.33948848 0.33948848 0.33948848 0.33948777]\n",
      " Minimum adjective reached at -0.1703432948611822 Not portfolio objective!\n",
      "Optimized a: [0.33709313 0.33709313 0.33709313 0.33709313 0.33709277 0.33709242\n",
      " 0.33709313 0.33709398 0.33709312 0.33709312]\n",
      " Minimum adjective reached at -0.16974533670323944 Not portfolio objective!\n",
      "Optimized a: [0.33469044 0.33469044 0.33469022 0.33468999 0.33468921 0.33469022\n",
      " 0.33468998 0.33468998 0.33468998 0.33468998]\n",
      " Minimum adjective reached at -0.16914628499908613 Not portfolio objective!\n",
      "Optimized a: [0.33227761 0.33227928 0.33227854 0.33227813 0.3322787  0.3322787\n",
      " 0.33227854 0.33227854 0.33227911 0.33227911]\n",
      " Minimum adjective reached at -0.16854612262848295 Not portfolio objective!\n",
      "Optimized a: [0.32986161 0.32986174 0.32986141 0.32986146 0.32986057 0.32986083\n",
      " 0.32986083 0.32986096 0.32986083 0.32986083]\n",
      " Minimum adjective reached at -0.16794482877889547 Not portfolio objective!\n",
      "Optimized a: [0.32744004 0.32743967 0.32743968 0.3274398  0.32743991 0.32743991\n",
      " 0.3274398  0.32743991 0.3274398  0.3274398 ]\n",
      " Minimum adjective reached at -0.1673423804932025 Not portfolio objective!\n",
      "Optimized a: [0.32559711 0.32559733 0.32559733 0.32559724 0.32559754 0.32559741\n",
      " 0.32559763 0.32559754 0.32559763 0.32559763]\n",
      " Minimum adjective reached at -0.16673932819219656 Not portfolio objective!\n",
      "Optimized a: [0.3233342  0.3233342  0.32333412 0.32333447 0.32333428 0.32333428\n",
      " 0.32333428 0.32333439 0.3233342  0.3233342 ]\n",
      " Minimum adjective reached at -0.1661348802023887 Not portfolio objective!\n",
      "Optimized a: [0.32108608 0.32108602 0.32108609 0.32108624 0.32108617 0.32108632\n",
      " 0.32108617 0.32108617 0.32108623 0.32108618]\n",
      " Minimum adjective reached at -0.1655293558730546 Not portfolio objective!\n",
      "Optimized a: [0.31885173 0.31885173 0.31885168 0.31885168 0.31885167 0.3188514\n",
      " 0.31885148 0.31885155 0.31885155 0.31885155]\n",
      " Minimum adjective reached at -0.16492275937834225 Not portfolio objective!\n",
      "Optimized a: [0.31663089 0.31663094 0.31663071 0.31663066 0.31663059 0.31663035\n",
      " 0.31663046 0.31663041 0.31663046 0.31663041]\n",
      " Minimum adjective reached at -0.16431509578077053 Not portfolio objective!\n",
      "Optimized a: [0.31442329 0.3144233  0.31442313 0.31442314 0.31442325 0.31442314\n",
      " 0.31442318 0.31442314 0.31442302 0.31442302]\n",
      " Minimum adjective reached at -0.163706370999728 Not portfolio objective!\n",
      "Optimized a: [0.31222835 0.31222845 0.3122283  0.31222835 0.31222839 0.3122284\n",
      " 0.3122284  0.3122283  0.31222845 0.3122283 ]\n",
      " Minimum adjective reached at -0.16309659169545648 Not portfolio objective!\n",
      "Optimized a: [0.31004615 0.31004606 0.31004615 0.31004623 0.31004611 0.31004619\n",
      " 0.31004624 0.31004633 0.31004627 0.31004623]\n",
      " Minimum adjective reached at -0.1624857653560544 Not portfolio objective!\n",
      "Optimized a: [0.30787572 0.30787563 0.3078758  0.3078758  0.30787567 0.30787563\n",
      " 0.30787559 0.30787559 0.30787563 0.30787563]\n",
      " Minimum adjective reached at -0.16187390007591787 Not portfolio objective!\n",
      "Optimized a: [0.30571699 0.30571699 0.30571698 0.30571714 0.30571714 0.30571699\n",
      " 0.3057171  0.30571703 0.30571714 0.30571704]\n",
      " Minimum adjective reached at -0.16126100481102926 Not portfolio objective!\n",
      "Optimized a: [0.30356971 0.30356967 0.30356957 0.30356975 0.3035697  0.30356967\n",
      " 0.3035697  0.3035697  0.30356967 0.3035697 ]\n",
      " Minimum adjective reached at -0.1606470890221007 Not portfolio objective!\n",
      "Optimized a: [0.30143286 0.30143305 0.30143302 0.301433   0.30143296 0.30143303\n",
      " 0.30143293 0.30143303 0.301433   0.30143303]\n",
      " Minimum adjective reached at -0.1600321627299255 Not portfolio objective!\n",
      "Optimized a: [0.29930691 0.299307   0.29930702 0.29930694 0.29930691 0.29930702\n",
      " 0.29930702 0.29930702 0.29930702 0.29930702]\n",
      " Minimum adjective reached at -0.1594162367020142 Not portfolio objective!\n",
      "Optimized a: [0.29719151 0.29719147 0.29719146 0.29719147 0.29719148 0.29719147\n",
      " 0.2971915  0.29719144 0.29719141 0.29719147]\n",
      " Minimum adjective reached at -0.15879932221362097 Not portfolio objective!\n",
      "Optimized a: [0.29508567 0.29508565 0.29508558 0.29508568 0.29508568 0.29508559\n",
      " 0.29508557 0.29508563 0.29508563 0.29508559]\n",
      " Minimum adjective reached at -0.1581814306493969 Not portfolio objective!\n",
      "Optimized a: [0.29298952 0.29298953 0.2929896  0.29298962 0.29298962 0.2929896\n",
      " 0.29298948 0.2929895  0.2929895  0.2929895 ]\n",
      " Minimum adjective reached at -0.1575625742984691 Not portfolio objective!\n",
      "Optimized a: [0.29090307 0.29090309 0.29090308 0.29090314 0.29090308 0.29090314\n",
      " 0.29090314 0.29090309 0.29090314 0.29090316]\n",
      " Minimum adjective reached at -0.15694276581410233 Not portfolio objective!\n",
      "Optimized a: [0.28882579 0.28882583 0.28882581 0.28882575 0.28882579 0.28882575\n",
      " 0.28882573 0.28882575 0.28882576 0.28882573]\n",
      " Minimum adjective reached at -0.15632201778127974 Not portfolio objective!\n",
      "Optimized a: [0.28675745 0.28675749 0.28675758 0.2867575  0.28675751 0.28675751\n",
      " 0.28675759 0.28675759 0.28675754 0.28675753]\n",
      " Minimum adjective reached at -0.15570034361983354 Not portfolio objective!\n",
      "Optimized a: [0.28469819 0.28469816 0.28469819 0.28469814 0.28469822 0.28469822\n",
      " 0.2846982  0.2846982  0.28469823 0.28469822]\n",
      " Minimum adjective reached at -0.15507775685338646 Not portfolio objective!\n",
      "Optimized a: [0.28264755 0.28264754 0.28264752 0.2826476  0.28264755 0.28264755\n",
      " 0.28264757 0.28264755 0.28264755 0.28264757]\n",
      " Minimum adjective reached at -0.15445427120346183 Not portfolio objective!\n",
      "Optimized a: [0.28060553 0.2806055  0.2806055  0.2806055  0.28060552 0.28060555\n",
      " 0.28060552 0.28060555 0.28060555 0.28060557]\n",
      " Minimum adjective reached at -0.1538299008324433 Not portfolio objective!\n",
      "Optimized a: [0.27903343 0.27903346 0.27903344 0.27903348 0.27903351 0.27903347\n",
      " 0.27903353 0.27903347 0.27903352 0.27903352]\n",
      " Minimum adjective reached at -0.15320519729582574 Not portfolio objective!\n",
      "Optimized a: [0.27706089 0.27706089 0.27706095 0.27706092 0.27706092 0.27706097\n",
      " 0.27706096 0.27706096 0.27706092 0.27706092]\n",
      " Minimum adjective reached at -0.15257924083834318 Not portfolio objective!\n",
      "Optimized a: [0.27509976 0.27509977 0.27509978 0.27509976 0.27509976 0.27509978\n",
      " 0.27509975 0.27509972 0.27509972 0.2750997 ]\n",
      " Minimum adjective reached at -0.1519524714729531 Not portfolio objective!\n",
      "Optimized a: [0.27315006 0.27315011 0.27315011 0.2731501  0.27315009 0.27315011\n",
      " 0.27315011 0.27315009 0.27315009 0.2731501 ]\n",
      " Minimum adjective reached at -0.1513249080907294 Not portfolio objective!\n",
      "Optimized a: [0.27121191 0.2712119  0.2712119  0.27121186 0.27121189 0.27121189\n",
      " 0.27121188 0.27121186 0.27121187 0.27121187]\n",
      " Minimum adjective reached at -0.1506965700662013 Not portfolio objective!\n",
      "Optimized a: [0.26928484 0.26928483 0.26928482 0.2692848  0.26928481 0.2692848\n",
      " 0.26928484 0.26928484 0.26928484 0.26928484]\n",
      " Minimum adjective reached at -0.15006747725228742 Not portfolio objective!\n",
      "Optimized a: [0.26736902 0.26736902 0.26736902 0.26736898 0.26736896 0.26736899\n",
      " 0.26736899 0.26736901 0.26736899 0.26736899]\n",
      " Minimum adjective reached at -0.14943764992389333 Not portfolio objective!\n",
      "Optimized a: [0.2654642  0.26546416 0.26546417 0.26546419 0.26546422 0.26546422\n",
      " 0.26546424 0.26546424 0.26546422 0.26546422]\n",
      " Minimum adjective reached at -0.14880710881366194 Not portfolio objective!\n",
      "Optimized a: [0.2635705  0.26357049 0.26357045 0.26357049 0.26357049 0.26357049\n",
      " 0.26357049 0.26357049 0.2635705  0.26357049]\n",
      " Minimum adjective reached at -0.14817587505232527 Not portfolio objective!\n",
      "Optimized a: [0.26168777 0.26168778 0.26168781 0.26168778 0.26168777 0.26168781\n",
      " 0.26168777 0.26168777 0.2616878  0.2616878 ]\n",
      " Minimum adjective reached at -0.14754397018215315 Not portfolio objective!\n",
      "Optimized a: [0.25981583 0.25981584 0.25981583 0.25981584 0.25981588 0.25981584\n",
      " 0.25981582 0.25981584 0.25981586 0.25981586]\n",
      " Minimum adjective reached at -0.1469114161805118 Not portfolio objective!\n",
      "Optimized a: [0.25795471 0.25795472 0.25795474 0.25795475 0.25795475 0.25795472\n",
      " 0.25795475 0.25795472 0.25795472 0.25795472]\n",
      " Minimum adjective reached at -0.14627823535357815 Not portfolio objective!\n",
      "Optimized a: [0.25610431 0.25610429 0.25610431 0.25610431 0.25610434 0.25610432\n",
      " 0.25610435 0.25610435 0.25610431 0.2561043 ]\n",
      " Minimum adjective reached at -0.1456444504114689 Not portfolio objective!\n",
      "Optimized a: [0.25426454 0.25426452 0.25426452 0.2542645  0.25426453 0.25426453\n",
      " 0.25426454 0.25426454 0.25426453 0.25426453]\n",
      " Minimum adjective reached at -0.14501008441695928 Not portfolio objective!\n",
      "Optimized a: [0.2524353  0.25243529 0.25243526 0.25243526 0.25243525 0.25243527\n",
      " 0.25243525 0.25243524 0.25243525 0.25243523]\n",
      " Minimum adjective reached at -0.1443751607890921 Not portfolio objective!\n",
      "Optimized a: [0.25061644 0.25061642 0.25061642 0.25061645 0.25061643 0.25061646\n",
      " 0.25061642 0.25061644 0.25061643 0.25061643]\n",
      " Minimum adjective reached at -0.14373970327770066 Not portfolio objective!\n",
      "Optimized a: [0.24880796 0.24880795 0.24880796 0.24880797 0.24880799 0.24880799\n",
      " 0.24880799 0.24880797 0.24880797 0.24880798]\n",
      " Minimum adjective reached at -0.1431037359590034 Not portfolio objective!\n",
      "Optimized a: [0.24700976 0.24700972 0.24700975 0.24700975 0.24700974 0.24700976\n",
      " 0.24700975 0.24700974 0.24700975 0.24700975]\n",
      " Minimum adjective reached at -0.14246728324976493 Not portfolio objective!\n",
      "Optimized a: [0.24522158 0.24522159 0.24522163 0.24522164 0.24522164 0.24522166\n",
      " 0.24522166 0.24522166 0.24522165 0.24522166]\n",
      " Minimum adjective reached at -0.14183036987557118 Not portfolio objective!\n",
      "Optimized a: [0.24344354 0.24344354 0.24344357 0.24344357 0.24344357 0.24344356\n",
      " 0.24344359 0.24344357 0.24344358 0.24344357]\n",
      " Minimum adjective reached at -0.14119302084277044 Not portfolio objective!\n",
      "Optimized a: [0.24167546 0.24167548 0.2416755  0.24167549 0.2416755  0.24167547\n",
      " 0.24167547 0.24167547 0.24167546 0.24167547]\n",
      " Minimum adjective reached at -0.1405552614275311 Not portfolio objective!\n"
     ]
    },
    {
     "name": "stderr",
     "output_type": "stream",
     "text": [
      "C:\\Users\\prith\\anaconda3\\Lib\\site-packages\\scipy\\optimize\\_numdiff.py:598: ComplexWarning: Casting complex values to real discards the imaginary part\n",
      "  J_transposed[i] = df / dx\n",
      "C:\\Users\\prith\\anaconda3\\Lib\\site-packages\\scipy\\optimize\\_slsqp_py.py:422: ComplexWarning: Casting complex values to real discards the imaginary part\n",
      "  slsqp(m, meq, x, xl, xu, fx, c, g, a, acc, majiter, mode, w, jw,\n"
     ]
    }
   ],
   "source": [
    "results_ = {}\n",
    "thetas = (np.exp(np.linspace(0, 1)) - 1)[1:]\n",
    "for theta_ in thetas:\n",
    "    # Initial guess for 'a'\n",
    "    a0 = np.ones(n)/n\n",
    "    \n",
    "    # Define constraints in the format required by 'minimize'\n",
    "    constraints = {'type': 'ineq', 'fun': positive_definite_constraint, 'args': (theta_,)}\n",
    "    \n",
    "    # Perform the optimization\n",
    "    result = minimize(objective_a_oftheta, a0, method='SLSQP', constraints=constraints, bounds=None, args = (theta_))\n",
    "    \n",
    "    # Check if the optimization was successful\n",
    "    if result.success:\n",
    "        a_star = result.x\n",
    "        print(\"Optimized a:\", a_star)\n",
    "        print(\" Minimum adjective reached at\", np.real(result.fun), \"Not portfolio objective!\")\n",
    "    else:\n",
    "        print(\"Optimization failed:\", result.message)\n",
    "    \n",
    "    #computaion of entropy, risk_measurement\n",
    "    #mvo = mean variance objective\n",
    "    Sigma_tilda = inv(inv(Sigma) - theta_ * gamma * np.outer(a_star, a_star))\n",
    "    \n",
    "    Rel_entropy = (np.log(det(Sigma @ inv(Sigma_tilda) )) + np.trace(inv(Sigma) @ Sigma_tilda - I))/2\n",
    "    \n",
    "    RPs_nominal = portfolio_performance(a_star, mu, Sigma, gamma)\n",
    "    NPs_worstcase = -np.dot(a_hat, mu) + (gamma/2)* np.dot(np.matmul(a_hat, Sigma_tilda), a_hat)\n",
    "    RPs_worstcase = -np.dot(a_star, mu) + (gamma/2)* np.dot(np.matmul(a_star, Sigma_tilda), a_star)\n",
    "\n",
    "    results_[theta_] = (Rel_entropy, NPs_worstcase, RPs_nominal, RPs_worstcase)"
   ]
  },
  {
   "cell_type": "code",
   "execution_count": 84,
   "id": "2a247c47-f0aa-4e79-aadd-fc97f33f2631",
   "metadata": {},
   "outputs": [],
   "source": [
    "# Convert the dictionary to a list of tuples\n",
    "data_list = [(key, *value) for key, value in results_.items()]\n",
    "\n",
    "# Create a DataFrame\n",
    "df_wc = pd.DataFrame(data_list, columns=['Theta', 'Entropy', 'NPs_worstcase', 'RPs_nominal',  'RPs_worstcase'])"
   ]
  },
  {
   "cell_type": "code",
   "execution_count": 85,
   "id": "5b2b144e-4343-4d41-9b9e-d53a83b85984",
   "metadata": {},
   "outputs": [
    {
     "name": "stdout",
     "output_type": "stream",
     "text": [
      "Optimized a: [0.34307382 0.34307382 0.34308381 0.34308526 0.34308381 0.34308673\n",
      " 0.34308381 0.34307881 0.34308089 0.34308089]\n",
      " Minimum adjective reached at -0.17124127656130073 Not portfolio objective!\n",
      "Optimized a: [0.3443146  0.3443146  0.34431387 0.34431387 0.34430888 0.34431064\n",
      " 0.34431064 0.34431137 0.34431387 0.34431387]\n",
      " Minimum adjective reached at -0.17154837326834713 Not portfolio objective!\n",
      "Optimized a: [0.34556357 0.34556406 0.34556406 0.34556308 0.34556357 0.34556357\n",
      " 0.34556259 0.34556093 0.34556141 0.34556093]\n",
      " Minimum adjective reached at -0.171861642226937 Not portfolio objective!\n",
      "Optimized a: [0.3468337  0.34683425 0.346833   0.34683335 0.34683387 0.34683351\n",
      " 0.34683351 0.34683388 0.34683226 0.34683263]\n",
      " Minimum adjective reached at -0.1721812720274471 Not portfolio objective!\n",
      "Optimized a: [0.34812997 0.34813025 0.34813112 0.34813312 0.34813312 0.34813239\n",
      " 0.34813239 0.34813281 0.3481337  0.3481334 ]\n",
      " Minimum adjective reached at -0.17250746078533769 Not portfolio objective!\n",
      "Optimized a: [0.34945287 0.34945155 0.34945238 0.34945238 0.34945346 0.34945202\n",
      " 0.34945346 0.34945405 0.34945287 0.34945287]\n",
      " Minimum adjective reached at -0.17284041270371112 Not portfolio objective!\n",
      "Optimized a: [0.35080488 0.35080529 0.35080389 0.35080571 0.35080561 0.35080447\n",
      " 0.35080419 0.35080419 0.35080397 0.35080397]\n",
      " Minimum adjective reached at -0.1731803459692172 Not portfolio objective!\n",
      "Optimized a: [0.35218029 0.35217973 0.35217973 0.35217992 0.35218036 0.35218036\n",
      " 0.35218099 0.35218099 0.35218099 0.35218099]\n",
      " Minimum adjective reached at -0.1735274819894686 Not portfolio objective!\n",
      "Optimized a: [0.35358291 0.35358212 0.35358396 0.35358396 0.35358395 0.35358418\n",
      " 0.35358379 0.35358379 0.35358362 0.35358379]\n",
      " Minimum adjective reached at -0.17388205643209798 Not portfolio objective!\n",
      "Optimized a: [0.35501245 0.35501165 0.35501214 0.35501158 0.35501235 0.35501194\n",
      " 0.35501271 0.35501243 0.35501207 0.35501208]\n",
      " Minimum adjective reached at -0.17424431147711814 Not portfolio objective!\n",
      "Optimized a: [0.35647202 0.35647197 0.35647293 0.35647339 0.35647279 0.35647279\n",
      " 0.35647272 0.35647317 0.35647247 0.35647285]\n",
      " Minimum adjective reached at -0.17461450988632451 Not portfolio objective!\n",
      "Optimized a: [0.3586311  0.35863097 0.3586316  0.3586316  0.35863202 0.3586315\n",
      " 0.35863204 0.35863191 0.35863234 0.35863252]\n",
      " Minimum adjective reached at -0.1749934872471334 Not portfolio objective!\n",
      "Optimized a: [0.36029141 0.36029163 0.36029152 0.36029081 0.36029047 0.36029104\n",
      " 0.36029081 0.36029069 0.36029008 0.36029008]\n",
      " Minimum adjective reached at -0.17538063468588802 Not portfolio objective!\n",
      "Optimized a: [0.36199896 0.36199913 0.361999   0.36199922 0.36199907 0.36199924\n",
      " 0.36199915 0.36199947 0.36199947 0.36199947]\n",
      " Minimum adjective reached at -0.17577665013906027 Not portfolio objective!\n",
      "Optimized a: [0.36375901 0.36375914 0.36375925 0.36375891 0.36375877 0.36375897\n",
      " 0.3637589  0.36375852 0.36375886 0.36375899]\n",
      " Minimum adjective reached at -0.17618186321795914 Not portfolio objective!\n",
      "Optimized a: [0.36557064 0.36557082 0.36557082 0.36557105 0.36557121 0.36557099\n",
      " 0.36557129 0.3655712  0.3655712  0.3655712 ]\n",
      " Minimum adjective reached at -0.1765966225260338 Not portfolio objective!\n",
      "Optimized a: [0.36744168 0.36744168 0.36744168 0.36744096 0.36744166 0.36744173\n",
      " 0.36744124 0.36744163 0.36744154 0.36744154]\n",
      " Minimum adjective reached at -0.1770212973755721 Not portfolio objective!\n",
      "Optimized a: [0.3693709  0.36937069 0.36937004 0.36936989 0.36936997 0.36936966\n",
      " 0.36936966 0.36937001 0.36936973 0.36936993]\n",
      " Minimum adjective reached at -0.17745627920938245 Not portfolio objective!\n",
      "Optimized a: [0.37136187 0.37136141 0.37136139 0.3713616  0.37136152 0.37136134\n",
      " 0.37136175 0.37136174 0.37136174 0.37136174]\n",
      " Minimum adjective reached at -0.17790198387566256 Not portfolio objective!\n",
      "Optimized a: [0.37341905 0.37341895 0.3734189  0.37341793 0.37341804 0.37341821\n",
      " 0.37341833 0.37341793 0.37341826 0.37341833]\n",
      " Minimum adjective reached at -0.178358853454363 Not portfolio objective!\n",
      "Optimized a: [0.37554408 0.37554392 0.37554409 0.37554409 0.37554408 0.37554388\n",
      " 0.37554411 0.37554381 0.37554381 0.37554412]\n",
      " Minimum adjective reached at -0.17882735881902573 Not portfolio objective!\n",
      "Optimized a: [0.37774264 0.37774262 0.37774297 0.37774307 0.37774276 0.37774276\n",
      " 0.37774239 0.37774256 0.37774252 0.37774252]\n",
      " Minimum adjective reached at -0.17930800231594649 Not portfolio objective!\n",
      "Optimized a: [0.3800173  0.38001706 0.38001661 0.38001677 0.38001659 0.38001717\n",
      " 0.38001703 0.38001682 0.38001674 0.38001675]\n",
      " Minimum adjective reached at -0.1798013204134081 Not portfolio objective!\n",
      "Optimized a: [0.38237158 0.38237158 0.3823715  0.38237124 0.38237137 0.3823715\n",
      " 0.38237152 0.38237152 0.38237154 0.38237154]\n",
      " Minimum adjective reached at -0.1803078875616797 Not portfolio objective!\n",
      "Optimized a: [0.38480985 0.38481038 0.3848108  0.3848106  0.38481067 0.38481073\n",
      " 0.38481069 0.38481067 0.384811   0.384811  ]\n",
      " Minimum adjective reached at -0.18082831957113354 Not portfolio objective!\n",
      "Optimized a: [0.38734249 0.38734298 0.38734249 0.38734277 0.38734264 0.38734246\n",
      " 0.38734228 0.38734228 0.38734234 0.3873422 ]\n",
      " Minimum adjective reached at -0.18136327915310335 Not portfolio objective!\n",
      "Optimized a: [0.38996729 0.38996676 0.38996708 0.38996702 0.38996676 0.38996681\n",
      " 0.38996711 0.38996714 0.38996712 0.38996706]\n",
      " Minimum adjective reached at -0.1819134772732398 Not portfolio objective!\n",
      "Optimized a: [0.39269426 0.39269427 0.39269395 0.39269401 0.39269404 0.39269389\n",
      " 0.39269408 0.39269407 0.39269396 0.39269389]\n",
      " Minimum adjective reached at -0.18247968405183215 Not portfolio objective!\n",
      "Optimized a: [0.39552603 0.39552597 0.39552597 0.39552593 0.39552609 0.39552613\n",
      " 0.39552613 0.39552612 0.39552588 0.39552588]\n",
      " Minimum adjective reached at -0.1830627291474308 Not portfolio objective!\n",
      "Optimized a: [0.39847268 0.3984728  0.39847334 0.39847316 0.39847321 0.39847322\n",
      " 0.3984729  0.398473   0.39847312 0.39847304]\n",
      " Minimum adjective reached at -0.18366351545209778 Not portfolio objective!\n",
      "Optimized a: [0.40154007 0.40153994 0.40153982 0.40153964 0.40153936 0.40153966\n",
      " 0.4015396  0.4015395  0.4015396  0.40153973]\n",
      " Minimum adjective reached at -0.18428302069149005 Not portfolio objective!\n",
      "Optimized a: [0.40473549 0.40473557 0.40473547 0.40473563 0.40473566 0.40473576\n",
      " 0.40473564 0.40473565 0.40473554 0.40473554]\n",
      " Minimum adjective reached at -0.18492231337703008 Not portfolio objective!\n",
      "Optimized a: [0.40806778 0.40806796 0.40806833 0.40806838 0.4080681  0.40806815\n",
      " 0.40806814 0.4080679  0.40806809 0.40806808]\n",
      " Minimum adjective reached at -0.18558255876299398 Not portfolio objective!\n",
      "Optimized a: [0.41240714 0.41240707 0.41240702 0.41240729 0.41240729 0.41240732\n",
      " 0.41240741 0.41240729 0.41240716 0.41240715]\n",
      " Minimum adjective reached at -0.18626564791681252 Not portfolio objective!\n",
      "Optimized a: [0.41623187 0.41623193 0.41623181 0.41623174 0.41623152 0.41623155\n",
      " 0.41623165 0.4162317  0.41623159 0.4162316 ]\n",
      " Minimum adjective reached at -0.1869720359428452 Not portfolio objective!\n",
      "Optimized a: [0.42026132 0.42026136 0.42026161 0.4202614  0.42026169 0.42026167\n",
      " 0.42026167 0.42026151 0.42026166 0.42026161]\n",
      " Minimum adjective reached at -0.18770372933610663 Not portfolio objective!\n",
      "Optimized a: [0.42451958 0.42451938 0.42451927 0.42451937 0.42451938 0.42451953\n",
      " 0.42451973 0.42451941 0.42451948 0.42451966]\n",
      " Minimum adjective reached at -0.18846249446824542 Not portfolio objective!\n",
      "Optimized a: [0.42902835 0.4290284  0.42902852 0.42902857 0.42902823 0.4290285\n",
      " 0.42902831 0.42902854 0.42902849 0.42902849]\n",
      " Minimum adjective reached at -0.1892503093972582 Not portfolio objective!\n",
      "Optimized a: [0.43381528 0.43381534 0.43381508 0.43381535 0.43381554 0.43381545\n",
      " 0.43381531 0.43381546 0.43381549 0.43381546]\n",
      " Minimum adjective reached at -0.19006940243031423 Not portfolio objective!\n",
      "Optimized a: [0.43891215 0.43891226 0.43891188 0.43891191 0.43891213 0.43891219\n",
      " 0.43891205 0.43891225 0.43891219 0.43891216]\n",
      " Minimum adjective reached at -0.19092230040122984 Not portfolio objective!\n",
      "Optimized a: [0.44435498 0.44435501 0.44435478 0.444355   0.44435506 0.44435499\n",
      " 0.44435504 0.44435514 0.44435515 0.44435513]\n",
      " Minimum adjective reached at -0.19181188972135976 Not portfolio objective!\n",
      "Optimized a: [0.45018775 0.45018772 0.45018758 0.45018747 0.45018746 0.45018751\n",
      " 0.4501872  0.45018746 0.45018744 0.45018739]\n",
      " Minimum adjective reached at -0.19274149532186224 Not portfolio objective!\n",
      "Optimized a: [0.45646083 0.45646092 0.45646097 0.45646124 0.45646122 0.45646154\n",
      " 0.45646142 0.45646141 0.45646144 0.45646142]\n",
      " Minimum adjective reached at -0.19371498376339735 Not portfolio objective!\n",
      "Optimized a: [0.46323932 0.46323924 0.46323934 0.4632393  0.46323927 0.46323918\n",
      " 0.46323915 0.46323915 0.46323919 0.46323919]\n",
      " Minimum adjective reached at -0.19473690100804414 Not portfolio objective!\n",
      "Optimized a: [0.4705971  0.47059699 0.4705971  0.4705973  0.47059721 0.47059696\n",
      " 0.47059743 0.47059716 0.47059712 0.47059701]\n",
      " Minimum adjective reached at -0.19581265868444592 Not portfolio objective!\n",
      "Optimized a: [0.47971942 0.47971949 0.47971969 0.47971951 0.47971959 0.47971949\n",
      " 0.4797195  0.4797195  0.47971971 0.47971969]\n",
      " Minimum adjective reached at -0.19694935147157244 Not portfolio objective!\n",
      "Optimized a: [0.48903985 0.48903993 0.48903999 0.48903997 0.4890403  0.48904029\n",
      " 0.4890403  0.48904051 0.48904026 0.48904029]\n",
      " Minimum adjective reached at -0.1981544476305978 Not portfolio objective!\n",
      "Optimized a: [0.49954789 0.49954797 0.49954786 0.49954789 0.49954777 0.49954774\n",
      " 0.49954802 0.49954796 0.49954795 0.499548  ]\n",
      " Minimum adjective reached at -0.1994385974303029 Not portfolio objective!\n",
      "Optimized a: [0.51157586 0.51157586 0.5115758  0.5115758  0.51157576 0.51157579\n",
      " 0.51157573 0.51157594 0.51157585 0.51157584]\n",
      " Minimum adjective reached at -0.20081538044370012 Not portfolio objective!\n"
     ]
    }
   ],
   "source": [
    "neg_results_ = {}\n",
    "neg_thetas = -1 * (np.exp(np.linspace(0, 0.5)) - 1)[1:]\n",
    "for theta_ in neg_thetas:\n",
    "    # Initial guess for 'a'\n",
    "    a0 = np.ones(n)/n\n",
    "    \n",
    "    # Define constraints in the format required by 'minimize'\n",
    "    constraints = {'type': 'ineq', 'fun': positive_definite_constraint, 'args': (theta_,)}\n",
    "    \n",
    "    # Perform the optimization\n",
    "    result = minimize(objective_a_oftheta, a0, method='SLSQP', constraints=constraints, bounds=None, args = (theta_))\n",
    "    \n",
    "    # Check if the optimization was successful\n",
    "    if result.success:\n",
    "        a_star = result.x\n",
    "        print(\"Optimized a:\", a_star)\n",
    "        print(\" Minimum adjective reached at\", np.real(result.fun), \"Not portfolio objective!\")\n",
    "    else:\n",
    "        print(\"Optimization failed:\", result.message)\n",
    "    \n",
    "    #computaion of entropy, risk_measurement\n",
    "    #mvo = mean variance objective\n",
    "    Sigma_tilda = inv(inv(Sigma) - theta_ * gamma * np.outer(a_star, a_star))\n",
    "    \n",
    "    Rel_entropy = (np.log(det(Sigma @ inv(Sigma_tilda) )) + np.trace(inv(Sigma) @ Sigma_tilda - I))/2\n",
    "    \n",
    "    NPs_worstcase = -np.dot(a_hat, mu) + (gamma/2)* np.dot(np.matmul(a_hat, Sigma_tilda), a_hat)\n",
    "    neg_results_[theta_] = (Rel_entropy, NPs_worstcase)"
   ]
  },
  {
   "cell_type": "code",
   "execution_count": 86,
   "id": "be004c72-e597-4d20-8f31-a9685500786e",
   "metadata": {
    "scrolled": true
   },
   "outputs": [],
   "source": [
    "neg_results_\n",
    "\n",
    "# Convert the dictionary to a list of tuples\n",
    "neg_theta_data_list = [(key, *value) for key, value in neg_results_.items()]\n",
    "\n",
    "# Create a DataFrame\n",
    "neg_theta_df_wc = pd.DataFrame(neg_theta_data_list, columns=['Theta', 'Entropy', 'NPs_worstcase'])"
   ]
  },
  {
   "cell_type": "code",
   "execution_count": 87,
   "id": "9f4ba3ed-80b7-4804-b8a1-a54237271137",
   "metadata": {},
   "outputs": [
    {
     "data": {
      "image/png": "[encoded data removed]",
      "text/plain": [
       "<Figure size 640x480 with 1 Axes>"
      ]
     },
     "metadata": {},
     "output_type": "display_data"
    }
   ],
   "source": [
    "# No bounds no linear constraints just simple results\n",
    "fig = plt.figure()\n",
    "#fig.patch.set_facecolor('lightskyblue')\n",
    "ax = plt.gca()\n",
    "ax.set_facecolor('lightskyblue')\n",
    "df_wc.plot(ax = ax, x='Entropy',y='RPs_nominal', linestyle=(0, (5, 5)), linewidth=1.5, color='green')\n",
    "ax.axhline(y = performance_nominal, color = 'b', linestyle = (0, (3, 5, 1, 5)))\n",
    "df_wc.plot(ax = ax, x='Entropy',y='RPs_worstcase', linestyle='dotted', linewidth=2, color='darkorange')\n",
    "df_wc.plot(ax = ax, x='Entropy',y='NPs_worstcase', linestyle='solid', linewidth=1.5, color='blue')\n",
    "neg_theta_df_wc.plot(ax = ax, x='Entropy',y='NPs_worstcase', linestyle='solid', linewidth=1.5, color='blue')\n",
    "plt.show()"
   ]
  },
  {
   "cell_type": "code",
   "execution_count": 88,
   "id": "315dcbcd-794b-42f1-82d4-25960dd5e202",
   "metadata": {},
   "outputs": [],
   "source": [
    "# Adding the sum constraint results in equi-weighted portfolios."
   ]
  },
  {
   "cell_type": "markdown",
   "id": "91bbe6d3-5abf-4111-8cbb-e040defdb313",
   "metadata": {},
   "source": [
    "## Parameter Perturbations"
   ]
  },
  {
   "cell_type": "code",
   "execution_count": 89,
   "id": "210e958e-c215-4bc4-8785-fe625f167ef0",
   "metadata": {},
   "outputs": [],
   "source": [
    "I = np.eye(n)\n",
    "\n",
    "results_rho_pf = []\n",
    "results_rho_ent = []\n",
    "for rho_ij in np.linspace(0.05, 0.45, 41):\n",
    "    Sigma_change = np.full((n, n), rho_ij*sig_ii*sig_ii)\n",
    "    \n",
    "    # Set the diagonal elements to the diagonal value\n",
    "    np.fill_diagonal(Sigma_change, sig_ii*sig_ii)\n",
    "    \n",
    "    a_cap = (1/gamma)* inv(Sigma_change) @ mu\n",
    "    \n",
    "    performance_pp = portfolio_performance(a_cap, mu, Sigma_change, gamma)\n",
    "                    \n",
    "    Rel_entropy_pp = (np.log(det(Sigma @ inv(Sigma_change) )) + np.trace(inv(Sigma) @ Sigma_change - I))/2\n",
    "    results_rho_pf.append(performance_pp)\n",
    "    results_rho_ent.append(Rel_entropy_pp)"
   ]
  },
  {
   "cell_type": "code",
   "execution_count": 90,
   "id": "9283fa0f-a5dd-49d2-8e54-da1509cc7a30",
   "metadata": {},
   "outputs": [],
   "source": [
    "results_kap_pf = []\n",
    "results_kap_ent = []\n",
    "\n",
    "for kappa in np.linspace(0.72, 1.32, 41):\n",
    "    Sigma_change = kappa*Sigma\n",
    "    \n",
    "    a_cap = (1/gamma)* inv(Sigma_change) @ mu\n",
    "        \n",
    "    performance_pp = portfolio_performance(a_cap, mu, Sigma_change, gamma)\n",
    "    Rel_entropy_pp = (np.log(det(Sigma @ inv(Sigma_change) )) + np.trace(inv(Sigma) @ Sigma_change - I))/2\n",
    "    results_kap_pf.append(performance_pp)\n",
    "    results_kap_ent.append(Rel_entropy_pp)"
   ]
  },
  {
   "cell_type": "code",
   "execution_count": 91,
   "id": "76dc3a92-f51b-415d-b426-85180fe96bd4",
   "metadata": {},
   "outputs": [
    {
     "data": {
      "image/png": "[encoded data removed]",
      "text/plain": [
       "<Figure size 640x480 with 1 Axes>"
      ]
     },
     "metadata": {},
     "output_type": "display_data"
    }
   ],
   "source": [
    "ax = plt.gca()\n",
    "ax.plot(results_rho_ent, results_rho_pf, 'rx', linewidth=1)\n",
    "ax.plot(results_kap_ent, results_kap_pf, 'bo', linewidth=1)\n",
    "df_wc.plot(ax = ax, x='Entropy',y='NPs_worstcase', linestyle='solid', linewidth=1.5, color='blue')\n",
    "neg_theta_df_wc.plot(ax = ax, x='Entropy',y='NPs_worstcase', linestyle='solid', linewidth=1.5, color='blue')\n",
    "plt.show()"
   ]
  },
  {
   "cell_type": "code",
   "execution_count": null,
   "id": "12833a0b-a142-4b48-b964-c224ddf7ea97",
   "metadata": {},
   "outputs": [],
   "source": []
  },
  {
   "cell_type": "code",
   "execution_count": null,
   "id": "ab45cf5c-78e7-4bd5-a09c-673c90b34b92",
   "metadata": {},
   "outputs": [],
   "source": []
  }
 ],
 "metadata": {
  "kernelspec": {
   "display_name": "Python 3 (ipykernel)",
   "language": "python",
   "name": "python3"
  },
  "language_info": {
   "codemirror_mode": {
    "name": "ipython",
    "version": 3
   },
   "file_extension": ".py",
   "mimetype": "text/x-python",
   "name": "python",
   "nbconvert_exporter": "python",
   "pygments_lexer": "ipython3",
   "version": "3.11.5"
  }
 },
 "nbformat": 4,
 "nbformat_minor": 5
}
